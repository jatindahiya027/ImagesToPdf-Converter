{
 "cells": [
  {
   "cell_type": "code",
   "execution_count": 5,
   "source": [
    "# importing required files\r\n",
    "from PIL import Image, ImageEnhance\r\n",
    "import shutil\r\n",
    "import os\r\n",
    "import img2pdf\r\n",
    "# put all the images in the the images directory\r\n",
    "img_list = [x for x in os.listdir('images')] \r\n",
    " \r\n"
   ],
   "outputs": [],
   "metadata": {}
  },
  {
   "cell_type": "code",
   "execution_count": 6,
   "source": [
    "# Add some post-processing to the image before conversions\r\n",
    "i=10000\r\n",
    "for img in img_list:\r\n",
    "    imgg= Image.open(\"images/\"+img).convert('RGB') \r\n",
    "    # adding sharpness\r\n",
    "    enhancer= ImageEnhance.Sharpness(imgg)\r\n",
    "    image = enhancer.enhance(2)\r\n",
    "    # changing the resolution of the image\r\n",
    "    resized_img = image.resize((4098, 2304),Image.BICUBIC)\r\n",
    "    # adding contrast    \r\n",
    "    enhancer = ImageEnhance.Contrast(resized_img)\r\n",
    "    factor = 1.4\r\n",
    "    im_output = enhancer.enhance(factor)\r\n",
    "    #adding sharpness\r\n",
    "    enhancer= ImageEnhance.Sharpness(im_output)\r\n",
    "    image = enhancer.enhance(3)  \r\n",
    "    #saving the image     \r\n",
    "    image.save(\"temp/\"+\"image (\"+str(i)+\").jpg\",'JPEG',quality=100)\r\n",
    "    i=i+1\r\n",
    "\r\n",
    "\r\n"
   ],
   "outputs": [],
   "metadata": {}
  },
  {
   "cell_type": "code",
   "execution_count": 7,
   "source": [
    "# Pdf will be save by the below code.\r\n",
    "with open(\"output.pdf\", \"wb\") as f:\r\n",
    "    \r\n",
    "    f.write(img2pdf.convert([\"temp/\"+i for i in os.listdir('temp')]))\r\n"
   ],
   "outputs": [],
   "metadata": {}
  },
  {
   "cell_type": "code",
   "execution_count": 8,
   "source": [
    "# delete the images from the temp directory\r\n",
    "mylist = [\"temp\"]\r\n",
    "for dir in mylist:\r\n",
    " for files in os.listdir(dir):\r\n",
    "    path = os.path.join(dir, files)\r\n",
    "    try:\r\n",
    "        shutil.rmtree(path)\r\n",
    "    except OSError:\r\n",
    "        os.remove(path)\r\n",
    "        "
   ],
   "outputs": [],
   "metadata": {}
  }
 ],
 "metadata": {
  "orig_nbformat": 4,
  "language_info": {
   "name": "python",
   "version": "3.8.8",
   "mimetype": "text/x-python",
   "codemirror_mode": {
    "name": "ipython",
    "version": 3
   },
   "pygments_lexer": "ipython3",
   "nbconvert_exporter": "python",
   "file_extension": ".py"
  },
  "kernelspec": {
   "name": "python3",
   "display_name": "Python 3.8.8 64-bit ('base': conda)"
  },
  "interpreter": {
   "hash": "b3ba2566441a7c06988d0923437866b63cedc61552a5af99d1f4fb67d367b25f"
  }
 },
 "nbformat": 4,
 "nbformat_minor": 2
}